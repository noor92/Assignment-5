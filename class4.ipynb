{
 "cells": [
  {
   "cell_type": "markdown",
   "metadata": {},
   "source": [
    "**Task**\n",
    "\n",
    "You are tasked with developing a Python program to manage a student database. The user should be able to add new students or stop the input process by entering \"stop.\" Each student's name, along with a sequentially generated ID starting from 1, should be stored in a tuple, with these tuples kept in a list. The program must check for duplicate names before adding a new student and display a message if a duplicate is found. After the input process ends, the program should first display the complete list of student tuples and then display each student's ID and name individually. Additionally, the program should show the total number of students, calculate and display the total length of all student names combined, and identify the student with the longest and shortest name using appropriate operators. Implement these operations within a function named `manage_student_database()` and ensure you call this function at the end of your code.\n",
    "\n",
    "**Example Output:**\n",
    "\n",
    "```yaml\n",
    "Please enter the student's name (or type 'stop' to finish): Alice\n",
    "Please enter the student's name (or type 'stop' to finish): Bob\n",
    "Please enter the student's name (or type 'stop' to finish): Charlie\n",
    "Please enter the student's name (or type 'stop' to finish): Alice\n",
    "This name is already in the list.\n",
    "Please enter the student's name (or type 'stop' to finish): Diana\n",
    "Please enter the student's name (or type 'stop' to finish): stop\n",
    "\n",
    "Complete List of Students (Tuples):\n",
    "[(1, 'Alice'), (2, 'Bob'), (3, 'Charlie'), (4, 'Diana')]\n",
    "\n",
    "List of Students with IDs:\n",
    "ID: 1, Name: Alice\n",
    "ID: 2, Name: Bob\n",
    "ID: 3, Name: Charlie\n",
    "ID: 4, Name: Diana\n",
    "\n",
    "Total number of students: 4\n",
    "Total length of all student names combined: 20\n",
    "The student with the longest name is: Charlie\n",
    "The student with the shortest name is: Bob\n",
    "```"
   ]
  },
  {
   "cell_type": "code",
   "execution_count": 6,
   "metadata": {},
   "outputs": [
    {
     "name": "stdout",
     "output_type": "stream",
     "text": [
      "This name is already in the list.\n",
      "Complete list of Students (Tuples):\n",
      "[(1, 'Alice'), (2, 'Bob'), (3, 'Charlie'), (4, 'Diana')]\n",
      "List of Students with IDs:\n",
      "ID: 1, Name: Alice\n",
      "ID: 2, Name: Bob\n",
      "ID: 3, Name: Charlie\n",
      "ID: 4, Name: Diana\n",
      "Total number of students: 4\n",
      "Total length of all student names combined: 20\n",
      "The student with the longest name is: Charlie\n",
      "The student with the shortest name is: Bob\n"
     ]
    }
   ],
   "source": [
    "def manage_student_database():\n",
    "    students = []  \n",
    "    \n",
    "    while True:\n",
    "        student_name = input(\"Please enter the student's name (or type 'stop' to finish): \").strip()\n",
    "        \n",
    "        if student_name.lower() == 'stop':  \n",
    "            break\n",
    "        \n",
    "        if any(name.lower() == student_name.lower() for _, name in students):\n",
    "            print(\"This name is already in the list.\")\n",
    "            continue\n",
    "        \n",
    "        student_id = len(students) + 1 \n",
    "        students.append((student_id, student_name))  \n",
    "    \n",
    "    print(\"Complete list of Students (Tuples):\")\n",
    "    print(students)\n",
    "\n",
    "    print(\"List of Students with IDs:\")\n",
    "    for id, name in students:\n",
    "        print(f\"ID: {id}, Name: {name}\")\n",
    "    \n",
    "    total_students = len(students)  \n",
    "    print(f\"Total number of students: {total_students}\")\n",
    "\n",
    "    total_length = sum(len(name) for _, name in students)\n",
    "    print(f\"Total length of all student names combined: {total_length}\")\n",
    "\n",
    "    longest_name = max(students, key=lambda x: len(x[1]))[1]\n",
    "    shortest_name = min(students, key=lambda x: len(x[1]))[1]\n",
    "\n",
    "    print(f\"The student with the longest name is: {longest_name}\")\n",
    "    print(f\"The student with the shortest name is: {shortest_name}\")\n",
    "\n",
    "manage_student_database()\n",
    "\n"
   ]
  }
 ],
 "metadata": {
  "kernelspec": {
   "display_name": "base",
   "language": "python",
   "name": "python3"
  },
  "language_info": {
   "codemirror_mode": {
    "name": "ipython",
    "version": 3
   },
   "file_extension": ".py",
   "mimetype": "text/x-python",
   "name": "python",
   "nbconvert_exporter": "python",
   "pygments_lexer": "ipython3",
   "version": "3.11.6"
  }
 },
 "nbformat": 4,
 "nbformat_minor": 2
}
